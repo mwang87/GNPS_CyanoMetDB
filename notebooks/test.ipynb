{
 "cells": [
  {
   "cell_type": "code",
   "execution_count": 1,
   "metadata": {},
   "outputs": [],
   "source": [
    "import pandas as pd"
   ]
  },
  {
   "cell_type": "code",
   "execution_count": 16,
   "metadata": {},
   "outputs": [],
   "source": [
    "cyano_df = pd.read_csv(\"media-1.csv\")\n",
    "cyano_df[\"INCHIKEY_BLOCK1\"] = cyano_df[\"InChl Key\"].apply(lambda x: str(x).split(\"-\")[0])"
   ]
  },
  {
   "cell_type": "code",
   "execution_count": 17,
   "metadata": {},
   "outputs": [
    {
     "output_type": "execute_result",
     "data": {
      "text/plain": "  Compound identifier            Compound name Synonyms  \\\n0      CyanoMetDB_0001             Alotamide A      NaN   \n1      CyanoMetDB_0002  Anhydrohapaloxindole B      NaN   \n2      CyanoMetDB_0003           Columbamide B      NaN   \n3      CyanoMetDB_0004           Columbamide C      NaN   \n4      CyanoMetDB_0005           Columbamide D      NaN   \n\n          Class of compound Alternative class names  \\\n0  other cyclic non-peptide                     NaN   \n1  other linear non-peptide                     NaN   \n2  other linear non-peptide                     NaN   \n3  other linear non-peptide                     NaN   \n4  other linear non-peptide                     NaN   \n\n  Molecular formula (neutral)  \\\n0                 C32H49N3O5S   \n1                C21H21ClN2OS   \n2                C23H40Cl3NO4   \n3                C21H39Cl2NO3   \n4                C23H43Cl2NO3   \n\n   Molecular weight (g/mol) - average mass from molmass  \\\n0                                             587.82      \n1                                             384.92      \n2                                             500.93      \n3                                             424.45      \n4                                             452.50      \n\n   Monoisotopic mass (neutral)  Monoisotopic mass [M+H]+   Ref_ID  ...  \\\n0                   587.339293                588.346569  Ref_515  ...   \n1                   384.106312                385.113588  Ref_154  ...   \n2                   499.202292                500.209568  Ref_216  ...   \n3                   423.230700                424.237976  Ref_216  ...   \n4                   451.262000                452.269276  Ref_239  ...   \n\n                                               Inchl  \\\n0  InChI=1S/C32H49N3O5S/c1-20(2)28-32(38)40-25(18...   \n1  InChI=1S/C21H21ClN2OS/c1-5-21(4)14(22)9-12-16(...   \n2  InChI=1S/C23H40Cl3NO4/c1-19(28)31-18-21(17-30-...   \n3  InChI=1S/C21H39Cl2NO3/c1-24(20(17-25)18-27-2)2...   \n4  InChI=1S/C23H43Cl2NO3/c1-26(22(19-27)20-29-2)2...   \n\n                     InChl Key IUPAC name Build block string  \\\n0  NCUIESRBHFXRKK-LLEBMXSWSA-N        NaN                NaN   \n1  POWOOZMDXKYYOK-WIJIEQGXSA-N        NaN                NaN   \n2  JBEYLLUXESVNSE-QOZDHKFNSA-N        NaN                NaN   \n3  HFTYBOHUADLAJY-KRTLOWCSSA-N        NaN                NaN   \n4  IVCAHXJIJIGCFU-RUDMXATFSA-N        NaN                NaN   \n\n  NMR platform used          Genus        Species   Strain Notes   \\\n0                yes       Lyngbya  bouillonii         NaN    NaN   \n1                yes  Hapalosiphon    fontinalis   V-3-1      NaN   \n2                yes        Moorea  bouillonii         NaN    NaN   \n3                yes        Moorea  bouillonii         NaN    NaN   \n4                yes        Moorea  bouillonii         NaN    NaN   \n\n  INCHIKEY_BLOCK1  \n0  NCUIESRBHFXRKK  \n1  POWOOZMDXKYYOK  \n2  JBEYLLUXESVNSE  \n3  HFTYBOHUADLAJY  \n4  IVCAHXJIJIGCFU  \n\n[5 rows x 42 columns]",
      "text/html": "<div>\n<style scoped>\n    .dataframe tbody tr th:only-of-type {\n        vertical-align: middle;\n    }\n\n    .dataframe tbody tr th {\n        vertical-align: top;\n    }\n\n    .dataframe thead th {\n        text-align: right;\n    }\n</style>\n<table border=\"1\" class=\"dataframe\">\n  <thead>\n    <tr style=\"text-align: right;\">\n      <th></th>\n      <th>Compound identifier</th>\n      <th>Compound name</th>\n      <th>Synonyms</th>\n      <th>Class of compound</th>\n      <th>Alternative class names</th>\n      <th>Molecular formula (neutral)</th>\n      <th>Molecular weight (g/mol) - average mass from molmass</th>\n      <th>Monoisotopic mass (neutral)</th>\n      <th>Monoisotopic mass [M+H]+</th>\n      <th>Ref_ID</th>\n      <th>...</th>\n      <th>Inchl</th>\n      <th>InChl Key</th>\n      <th>IUPAC name</th>\n      <th>Build block string</th>\n      <th>NMR platform used</th>\n      <th>Genus</th>\n      <th>Species</th>\n      <th>Strain</th>\n      <th>Notes</th>\n      <th>INCHIKEY_BLOCK1</th>\n    </tr>\n  </thead>\n  <tbody>\n    <tr>\n      <td>0</td>\n      <td>CyanoMetDB_0001</td>\n      <td>Alotamide A</td>\n      <td>NaN</td>\n      <td>other cyclic non-peptide</td>\n      <td>NaN</td>\n      <td>C32H49N3O5S</td>\n      <td>587.82</td>\n      <td>587.339293</td>\n      <td>588.346569</td>\n      <td>Ref_515</td>\n      <td>...</td>\n      <td>InChI=1S/C32H49N3O5S/c1-20(2)28-32(38)40-25(18...</td>\n      <td>NCUIESRBHFXRKK-LLEBMXSWSA-N</td>\n      <td>NaN</td>\n      <td>NaN</td>\n      <td>yes</td>\n      <td>Lyngbya</td>\n      <td>bouillonii</td>\n      <td>NaN</td>\n      <td>NaN</td>\n      <td>NCUIESRBHFXRKK</td>\n    </tr>\n    <tr>\n      <td>1</td>\n      <td>CyanoMetDB_0002</td>\n      <td>Anhydrohapaloxindole B</td>\n      <td>NaN</td>\n      <td>other linear non-peptide</td>\n      <td>NaN</td>\n      <td>C21H21ClN2OS</td>\n      <td>384.92</td>\n      <td>384.106312</td>\n      <td>385.113588</td>\n      <td>Ref_154</td>\n      <td>...</td>\n      <td>InChI=1S/C21H21ClN2OS/c1-5-21(4)14(22)9-12-16(...</td>\n      <td>POWOOZMDXKYYOK-WIJIEQGXSA-N</td>\n      <td>NaN</td>\n      <td>NaN</td>\n      <td>yes</td>\n      <td>Hapalosiphon</td>\n      <td>fontinalis</td>\n      <td>V-3-1</td>\n      <td>NaN</td>\n      <td>POWOOZMDXKYYOK</td>\n    </tr>\n    <tr>\n      <td>2</td>\n      <td>CyanoMetDB_0003</td>\n      <td>Columbamide B</td>\n      <td>NaN</td>\n      <td>other linear non-peptide</td>\n      <td>NaN</td>\n      <td>C23H40Cl3NO4</td>\n      <td>500.93</td>\n      <td>499.202292</td>\n      <td>500.209568</td>\n      <td>Ref_216</td>\n      <td>...</td>\n      <td>InChI=1S/C23H40Cl3NO4/c1-19(28)31-18-21(17-30-...</td>\n      <td>JBEYLLUXESVNSE-QOZDHKFNSA-N</td>\n      <td>NaN</td>\n      <td>NaN</td>\n      <td>yes</td>\n      <td>Moorea</td>\n      <td>bouillonii</td>\n      <td>NaN</td>\n      <td>NaN</td>\n      <td>JBEYLLUXESVNSE</td>\n    </tr>\n    <tr>\n      <td>3</td>\n      <td>CyanoMetDB_0004</td>\n      <td>Columbamide C</td>\n      <td>NaN</td>\n      <td>other linear non-peptide</td>\n      <td>NaN</td>\n      <td>C21H39Cl2NO3</td>\n      <td>424.45</td>\n      <td>423.230700</td>\n      <td>424.237976</td>\n      <td>Ref_216</td>\n      <td>...</td>\n      <td>InChI=1S/C21H39Cl2NO3/c1-24(20(17-25)18-27-2)2...</td>\n      <td>HFTYBOHUADLAJY-KRTLOWCSSA-N</td>\n      <td>NaN</td>\n      <td>NaN</td>\n      <td>yes</td>\n      <td>Moorea</td>\n      <td>bouillonii</td>\n      <td>NaN</td>\n      <td>NaN</td>\n      <td>HFTYBOHUADLAJY</td>\n    </tr>\n    <tr>\n      <td>4</td>\n      <td>CyanoMetDB_0005</td>\n      <td>Columbamide D</td>\n      <td>NaN</td>\n      <td>other linear non-peptide</td>\n      <td>NaN</td>\n      <td>C23H43Cl2NO3</td>\n      <td>452.50</td>\n      <td>451.262000</td>\n      <td>452.269276</td>\n      <td>Ref_239</td>\n      <td>...</td>\n      <td>InChI=1S/C23H43Cl2NO3/c1-26(22(19-27)20-29-2)2...</td>\n      <td>IVCAHXJIJIGCFU-RUDMXATFSA-N</td>\n      <td>NaN</td>\n      <td>NaN</td>\n      <td>yes</td>\n      <td>Moorea</td>\n      <td>bouillonii</td>\n      <td>NaN</td>\n      <td>NaN</td>\n      <td>IVCAHXJIJIGCFU</td>\n    </tr>\n  </tbody>\n</table>\n<p>5 rows × 42 columns</p>\n</div>"
     },
     "metadata": {},
     "execution_count": 17
    }
   ],
   "source": [
    "cyano_df.head()"
   ]
  },
  {
   "cell_type": "code",
   "execution_count": 18,
   "metadata": {},
   "outputs": [],
   "source": [
    "gnps_library_df = pd.read_csv(\"https://gnps-external.ucsd.edu/gnpslibraryfornpatlastsv\", sep=\"\\t\")\n",
    "gnps_library_df[\"INCHIKEY_BLOCK1\"] = gnps_library_df[\"COMPOUND_INCHIKEY\"].apply(lambda x: str(x).split(\"-\")[0])"
   ]
  },
  {
   "cell_type": "code",
   "execution_count": 19,
   "metadata": {},
   "outputs": [
    {
     "output_type": "execute_result",
     "data": {
      "text/plain": "               GNPSID          COMPOUND_NAME            COMPOUND_INCHIKEY  \\\n0  CCMSLIB00000001547  3-Des-Microcystein_LR  IYDKWWDUBYWQGF-NNAZGLEUSA-N   \n1  CCMSLIB00000001548             Hoiamide B  KNGPFNUOXXLKCN-ZNCJFREWSA-N   \n2  CCMSLIB00000001550             Scytonemin  CGZKSPLDUIRCIO-RPCRKUJJSA-N   \n3  CCMSLIB00000001552           Hectochlorin  USXIYWCPCGVOKF-LERJCCFDSA-N   \n4  CCMSLIB00000001554           Cyclomarin A  WCNJVJCYRBJSLC-BCJYPDSRSA-N   \n\n                                      COMPOUND_INCHI  \\\n0                                                NaN   \n1  InChI=1S/C45H73N5O10S3/c1-14-17-24(6)34(52)26(...   \n2  InChI=1S/C36H20N2O4/c39-21-13-9-19(10-14-21)17...   \n3                                                      \n4  InChI=1S/C56H82N8O11/c1-30(2)24-34(8)44-52(70)...   \n\n                                     COMPOUND_SMILES  LIBRARY_QUALITY  \\\n0  CC(C)CC1NC(=O)C(C)NC(=O)C(=C)N(C)C(=O)CCC(NC(=...                1   \n1  CCC[C@@H](C)[C@@H]([C@H](C)[C@@H]1[C@H]([C@H](...                1   \n2  OC1=CC=C(\\C=C2\\C(=O)C(C3=C4C5=C(C=CC=C5)N=C4\\C...                1   \n3  C[C@H]1[C@@H](OC(C2=CSC([C@H](C(C)(OC(C3=CSC([...                1   \n4  C[C@H]1C(=O)N[C@H](C(=O)N[C@H](C(=O)N([C@H](C(...                1   \n\n  INCHIKEY_BLOCK1  \n0  IYDKWWDUBYWQGF  \n1  KNGPFNUOXXLKCN  \n2  CGZKSPLDUIRCIO  \n3  USXIYWCPCGVOKF  \n4  WCNJVJCYRBJSLC  ",
      "text/html": "<div>\n<style scoped>\n    .dataframe tbody tr th:only-of-type {\n        vertical-align: middle;\n    }\n\n    .dataframe tbody tr th {\n        vertical-align: top;\n    }\n\n    .dataframe thead th {\n        text-align: right;\n    }\n</style>\n<table border=\"1\" class=\"dataframe\">\n  <thead>\n    <tr style=\"text-align: right;\">\n      <th></th>\n      <th>GNPSID</th>\n      <th>COMPOUND_NAME</th>\n      <th>COMPOUND_INCHIKEY</th>\n      <th>COMPOUND_INCHI</th>\n      <th>COMPOUND_SMILES</th>\n      <th>LIBRARY_QUALITY</th>\n      <th>INCHIKEY_BLOCK1</th>\n    </tr>\n  </thead>\n  <tbody>\n    <tr>\n      <td>0</td>\n      <td>CCMSLIB00000001547</td>\n      <td>3-Des-Microcystein_LR</td>\n      <td>IYDKWWDUBYWQGF-NNAZGLEUSA-N</td>\n      <td>NaN</td>\n      <td>CC(C)CC1NC(=O)C(C)NC(=O)C(=C)N(C)C(=O)CCC(NC(=...</td>\n      <td>1</td>\n      <td>IYDKWWDUBYWQGF</td>\n    </tr>\n    <tr>\n      <td>1</td>\n      <td>CCMSLIB00000001548</td>\n      <td>Hoiamide B</td>\n      <td>KNGPFNUOXXLKCN-ZNCJFREWSA-N</td>\n      <td>InChI=1S/C45H73N5O10S3/c1-14-17-24(6)34(52)26(...</td>\n      <td>CCC[C@@H](C)[C@@H]([C@H](C)[C@@H]1[C@H]([C@H](...</td>\n      <td>1</td>\n      <td>KNGPFNUOXXLKCN</td>\n    </tr>\n    <tr>\n      <td>2</td>\n      <td>CCMSLIB00000001550</td>\n      <td>Scytonemin</td>\n      <td>CGZKSPLDUIRCIO-RPCRKUJJSA-N</td>\n      <td>InChI=1S/C36H20N2O4/c39-21-13-9-19(10-14-21)17...</td>\n      <td>OC1=CC=C(\\C=C2\\C(=O)C(C3=C4C5=C(C=CC=C5)N=C4\\C...</td>\n      <td>1</td>\n      <td>CGZKSPLDUIRCIO</td>\n    </tr>\n    <tr>\n      <td>3</td>\n      <td>CCMSLIB00000001552</td>\n      <td>Hectochlorin</td>\n      <td>USXIYWCPCGVOKF-LERJCCFDSA-N</td>\n      <td></td>\n      <td>C[C@H]1[C@@H](OC(C2=CSC([C@H](C(C)(OC(C3=CSC([...</td>\n      <td>1</td>\n      <td>USXIYWCPCGVOKF</td>\n    </tr>\n    <tr>\n      <td>4</td>\n      <td>CCMSLIB00000001554</td>\n      <td>Cyclomarin A</td>\n      <td>WCNJVJCYRBJSLC-BCJYPDSRSA-N</td>\n      <td>InChI=1S/C56H82N8O11/c1-30(2)24-34(8)44-52(70)...</td>\n      <td>C[C@H]1C(=O)N[C@H](C(=O)N[C@H](C(=O)N([C@H](C(...</td>\n      <td>1</td>\n      <td>WCNJVJCYRBJSLC</td>\n    </tr>\n  </tbody>\n</table>\n</div>"
     },
     "metadata": {},
     "execution_count": 19
    }
   ],
   "source": [
    "gnps_library_df.head()"
   ]
  },
  {
   "cell_type": "code",
   "execution_count": 28,
   "metadata": {},
   "outputs": [],
   "source": [
    "merged_df = cyano_df.merge(gnps_library_df, how=\"inner\", on=\"INCHIKEY_BLOCK1\")\n",
    "merged_df = merged_df.groupby(\"GNPSID\").first()\n",
    "merged_df[\"GNPSID\"] = merged_df.index"
   ]
  },
  {
   "cell_type": "code",
   "execution_count": 29,
   "metadata": {},
   "outputs": [],
   "source": [
    "merged_df.to_csv(\"cyano_gnps_merged.csv\", index=False)"
   ]
  },
  {
   "cell_type": "code",
   "execution_count": 25,
   "metadata": {},
   "outputs": [],
   "source": [
    "identifications_df = pd.read_csv(\"ReDU_all_identifications.tsv\", sep=\"\\t\")"
   ]
  },
  {
   "cell_type": "code",
   "execution_count": 26,
   "metadata": {},
   "outputs": [
    {
     "output_type": "execute_result",
     "data": {
      "text/plain": "   #Scan#   Adduct CAS_Number  Charge  \\\n0    2108  M+H-H2O   80226002       1   \n1    2041  M-H2O+H        NaN       1   \n2    2769      M+H        NaN       1   \n3    3721   [M+K]+        NaN       1   \n4    5623      M+H        NaN       1   \n\n                                       Compound_Name Compound_Source  \\\n0           Spectral Match to Enterodiol from NIST14        Isolated   \n1  NCGC00180458-02_C18H24O12_Cyclopenta[c]pyran-4...        isolated   \n2                  PC(22:6/0:0); [M+H]+ C30H51N1O7P1      Commercial   \n3  (2S,3S,4S,5R,6R)-6-[[(3S,4S,6aR,6bS,8R,8aR,9R,...        isolated   \n4                 PC(20:2/20:4); [M+H]+ C48H85N1O8P1      Commercial   \n\n             Data_Collector  ExactMass          FileScanUniqueID  \\\n0  Data deposited by rsilva      0.000  temp/spec-01537.mzML2108   \n1                 lfnothias    432.127  temp/spec-01186.mzML2041   \n2               Thomas Metz      0.000  temp/spec-01626.mzML2769   \n3    MoNA:VF-NPL-QEHF022681      0.000  temp/spec-00626.mzML3721   \n4               Thomas Metz      0.000  temp/spec-01363.mzML5623   \n\n                                               INCHI  ... SharedPeaks  \\\n0                                                NaN  ...           7   \n1  InChI=1S/C18H24O12/c1-6(20)27-4-7-2-9(21)12-8(...  ...           8   \n2                                                NaN  ...          12   \n3  InChI=1S/C52H82O24/c1-21(56)69-20-52-24(15-47(...  ...          18   \n4                                                NaN  ...          15   \n\n                                              Smiles SpecCharge    SpecMZ  \\\n0                                                NaN          1   283.169   \n1  CC(=O)OC\\C1=C\\[C@H](O)[C@H]\\2[C@@H]1[C@@H](O\\C...          0   416.235   \n2                                                NaN          0   568.336   \n3                                                NaN          1  1129.310   \n4                                                NaN          0   832.586   \n\n           SpectrumFile          SpectrumID  TIC_Query  \\\n0  temp/spec-01537.mzML  CCMSLIB00003139594  1673590.0   \n1  temp/spec-01186.mzML  CCMSLIB00000852361     3167.0   \n2  temp/spec-01626.mzML  CCMSLIB00003125773    34824.0   \n3  temp/spec-00626.mzML  CCMSLIB00004713744   980649.0   \n4  temp/spec-01363.mzML  CCMSLIB00003127388     7347.0   \n\n               UpdateWorkflowName  \\\n0  UPDATE-SINGLE-ANNOTATED-BRONZE   \n1    UPDATE-SINGLE-ANNOTATED-GOLD   \n2    UPDATE-SINGLE-ANNOTATED-GOLD   \n3  UPDATE-SINGLE-ANNOTATED-BRONZE   \n4    UPDATE-SINGLE-ANNOTATED-GOLD   \n\n                                      full_CCMS_path  tags  \n0         MSV000082953/ccms_peak/raw data/P1_B6.mzML        \n1  MSV000080673/ccms_peak/2017.AmericanGut3K.mzXM...        \n2  MSV000083004/ccms_peak/Bile_acid_gavage_experi...        \n3  MSV000082312/ccms_peak/raw/Samples/SD_01-2018_...        \n4  MSV000080918/ccms_peak/Steatohepatitis progres...        \n\n[5 rows x 37 columns]",
      "text/html": "<div>\n<style scoped>\n    .dataframe tbody tr th:only-of-type {\n        vertical-align: middle;\n    }\n\n    .dataframe tbody tr th {\n        vertical-align: top;\n    }\n\n    .dataframe thead th {\n        text-align: right;\n    }\n</style>\n<table border=\"1\" class=\"dataframe\">\n  <thead>\n    <tr style=\"text-align: right;\">\n      <th></th>\n      <th>#Scan#</th>\n      <th>Adduct</th>\n      <th>CAS_Number</th>\n      <th>Charge</th>\n      <th>Compound_Name</th>\n      <th>Compound_Source</th>\n      <th>Data_Collector</th>\n      <th>ExactMass</th>\n      <th>FileScanUniqueID</th>\n      <th>INCHI</th>\n      <th>...</th>\n      <th>SharedPeaks</th>\n      <th>Smiles</th>\n      <th>SpecCharge</th>\n      <th>SpecMZ</th>\n      <th>SpectrumFile</th>\n      <th>SpectrumID</th>\n      <th>TIC_Query</th>\n      <th>UpdateWorkflowName</th>\n      <th>full_CCMS_path</th>\n      <th>tags</th>\n    </tr>\n  </thead>\n  <tbody>\n    <tr>\n      <td>0</td>\n      <td>2108</td>\n      <td>M+H-H2O</td>\n      <td>80226002</td>\n      <td>1</td>\n      <td>Spectral Match to Enterodiol from NIST14</td>\n      <td>Isolated</td>\n      <td>Data deposited by rsilva</td>\n      <td>0.000</td>\n      <td>temp/spec-01537.mzML2108</td>\n      <td>NaN</td>\n      <td>...</td>\n      <td>7</td>\n      <td>NaN</td>\n      <td>1</td>\n      <td>283.169</td>\n      <td>temp/spec-01537.mzML</td>\n      <td>CCMSLIB00003139594</td>\n      <td>1673590.0</td>\n      <td>UPDATE-SINGLE-ANNOTATED-BRONZE</td>\n      <td>MSV000082953/ccms_peak/raw data/P1_B6.mzML</td>\n      <td></td>\n    </tr>\n    <tr>\n      <td>1</td>\n      <td>2041</td>\n      <td>M-H2O+H</td>\n      <td>NaN</td>\n      <td>1</td>\n      <td>NCGC00180458-02_C18H24O12_Cyclopenta[c]pyran-4...</td>\n      <td>isolated</td>\n      <td>lfnothias</td>\n      <td>432.127</td>\n      <td>temp/spec-01186.mzML2041</td>\n      <td>InChI=1S/C18H24O12/c1-6(20)27-4-7-2-9(21)12-8(...</td>\n      <td>...</td>\n      <td>8</td>\n      <td>CC(=O)OC\\C1=C\\[C@H](O)[C@H]\\2[C@@H]1[C@@H](O\\C...</td>\n      <td>0</td>\n      <td>416.235</td>\n      <td>temp/spec-01186.mzML</td>\n      <td>CCMSLIB00000852361</td>\n      <td>3167.0</td>\n      <td>UPDATE-SINGLE-ANNOTATED-GOLD</td>\n      <td>MSV000080673/ccms_peak/2017.AmericanGut3K.mzXM...</td>\n      <td></td>\n    </tr>\n    <tr>\n      <td>2</td>\n      <td>2769</td>\n      <td>M+H</td>\n      <td>NaN</td>\n      <td>1</td>\n      <td>PC(22:6/0:0); [M+H]+ C30H51N1O7P1</td>\n      <td>Commercial</td>\n      <td>Thomas Metz</td>\n      <td>0.000</td>\n      <td>temp/spec-01626.mzML2769</td>\n      <td>NaN</td>\n      <td>...</td>\n      <td>12</td>\n      <td>NaN</td>\n      <td>0</td>\n      <td>568.336</td>\n      <td>temp/spec-01626.mzML</td>\n      <td>CCMSLIB00003125773</td>\n      <td>34824.0</td>\n      <td>UPDATE-SINGLE-ANNOTATED-GOLD</td>\n      <td>MSV000083004/ccms_peak/Bile_acid_gavage_experi...</td>\n      <td></td>\n    </tr>\n    <tr>\n      <td>3</td>\n      <td>3721</td>\n      <td>[M+K]+</td>\n      <td>NaN</td>\n      <td>1</td>\n      <td>(2S,3S,4S,5R,6R)-6-[[(3S,4S,6aR,6bS,8R,8aR,9R,...</td>\n      <td>isolated</td>\n      <td>MoNA:VF-NPL-QEHF022681</td>\n      <td>0.000</td>\n      <td>temp/spec-00626.mzML3721</td>\n      <td>InChI=1S/C52H82O24/c1-21(56)69-20-52-24(15-47(...</td>\n      <td>...</td>\n      <td>18</td>\n      <td>NaN</td>\n      <td>1</td>\n      <td>1129.310</td>\n      <td>temp/spec-00626.mzML</td>\n      <td>CCMSLIB00004713744</td>\n      <td>980649.0</td>\n      <td>UPDATE-SINGLE-ANNOTATED-BRONZE</td>\n      <td>MSV000082312/ccms_peak/raw/Samples/SD_01-2018_...</td>\n      <td></td>\n    </tr>\n    <tr>\n      <td>4</td>\n      <td>5623</td>\n      <td>M+H</td>\n      <td>NaN</td>\n      <td>1</td>\n      <td>PC(20:2/20:4); [M+H]+ C48H85N1O8P1</td>\n      <td>Commercial</td>\n      <td>Thomas Metz</td>\n      <td>0.000</td>\n      <td>temp/spec-01363.mzML5623</td>\n      <td>NaN</td>\n      <td>...</td>\n      <td>15</td>\n      <td>NaN</td>\n      <td>0</td>\n      <td>832.586</td>\n      <td>temp/spec-01363.mzML</td>\n      <td>CCMSLIB00003127388</td>\n      <td>7347.0</td>\n      <td>UPDATE-SINGLE-ANNOTATED-GOLD</td>\n      <td>MSV000080918/ccms_peak/Steatohepatitis progres...</td>\n      <td></td>\n    </tr>\n  </tbody>\n</table>\n<p>5 rows × 37 columns</p>\n</div>"
     },
     "metadata": {},
     "execution_count": 26
    }
   ],
   "source": [
    "identifications_df.head()"
   ]
  },
  {
   "cell_type": "code",
   "execution_count": null,
   "metadata": {},
   "outputs": [],
   "source": []
  }
 ],
 "metadata": {
  "language_info": {
   "codemirror_mode": {
    "name": "ipython",
    "version": 3
   },
   "file_extension": ".py",
   "mimetype": "text/x-python",
   "name": "python",
   "nbconvert_exporter": "python",
   "pygments_lexer": "ipython3",
   "version": "3.7.3-final"
  },
  "orig_nbformat": 2,
  "kernelspec": {
   "name": "python3",
   "display_name": "Python 3"
  }
 },
 "nbformat": 4,
 "nbformat_minor": 2
}